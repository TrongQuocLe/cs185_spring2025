{
 "cells": [
  {
   "cell_type": "markdown",
   "id": "9dc175c8-f744-4655-9037-b313c486c951",
   "metadata": {},
   "source": [
    "# Creating the Bathymetry\n",
    "\n",
    "In this notebook, we will explore how to create the grid of a model. This will be demonstrated for Mike's example model in the California current. You are encouraged to follow along with this notebook to generate the model grid in the domain for your project.\n",
    "\n",
    "First, import packages to re-create and visualize the model grid here:"
   ]
  },
  {
   "cell_type": "code",
   "execution_count": 2,
   "id": "a2dba398-30be-4006-84f9-ab3372bfe404",
   "metadata": {},
   "outputs": [],
   "source": [
    "import numpy as np\n",
    "from scipy.interpolate import griddata\n",
    "import matplotlib.pyplot as plt\n",
    "import netCDF4 as nc4"
   ]
  },
  {
   "cell_type": "markdown",
   "id": "f8993870-b1f4-4fa0-a40d-7266c5f31375",
   "metadata": {},
   "source": [
    "### Bathymetry Source File\n",
    "To generate the bathymetry for the model, first obtain a subset of the global GEBCO bathymetry grid from here: https://download.gebco.net/\n",
    "\n",
    "For Mike's model, I requested a subset covering my grid ranging from 136-114$^{\\circ}$W in longitude and 28-54$^{\\circ}$N in latitude, and I stored the bathymetry as `GEBCO_Bathymetry_Artic.nc`."
   ]
  },
  {
   "cell_type": "markdown",
   "id": "e2ce940b-2fdc-4947-a5a1-6c1469b9367c",
   "metadata": {},
   "source": [
    "### Interpolating Bathymetry onto the Model Domain\n",
    "Next, I use an interpolation function to interpolate the GEBCO Bathymetry onto the domain of my model."
   ]
  },
  {
   "cell_type": "code",
   "execution_count": 3,
   "id": "16d9fee9-191d-4512-a39c-bc68237f8d3d",
   "metadata": {},
   "outputs": [
    {
     "name": "stdout",
     "output_type": "stream",
     "text": [
      "[[-179.99791667 -179.99375    -179.98958333 ...  179.98958333\n",
      "   179.99375     179.99791667]\n",
      " [-179.99791667 -179.99375    -179.98958333 ...  179.98958333\n",
      "   179.99375     179.99791667]\n",
      " [-179.99791667 -179.99375    -179.98958333 ...  179.98958333\n",
      "   179.99375     179.99791667]\n",
      " ...\n",
      " [-179.99791667 -179.99375    -179.98958333 ...  179.98958333\n",
      "   179.99375     179.99791667]\n",
      " [-179.99791667 -179.99375    -179.98958333 ...  179.98958333\n",
      "   179.99375     179.99791667]\n",
      " [-179.99791667 -179.99375    -179.98958333 ...  179.98958333\n",
      "   179.99375     179.99791667]]\n"
     ]
    }
   ],
   "source": [
    "# read in the bathymetry grid\n",
    "file_path = '/Users/spartan/Downloads/cs185c_spring2025/project/GEBCO_26_Mar_2025_c4ca670ef6a5/gebco_2024_n90.0_s60.0_w-180.0_e180.0.nc'\n",
    "ds = nc4.Dataset(file_path)\n",
    "gebco_lon = ds.variables['lon'][:]\n",
    "gebco_lat = ds.variables['lat'][:]\n",
    "Gebco_bathy = ds.variables['elevation'][:]\n",
    "ds.close()\n",
    "\n",
    "# create a meshgrid of the lon and lat\n",
    "Gebco_Lon, Gebco_Lat = np.meshgrid(gebco_lon, gebco_lat)\n",
    "print(Gebco_Lon)"
   ]
  },
  {
   "cell_type": "code",
   "execution_count": 4,
   "id": "c4746460-7161-4c38-9167-5387bd2e132c",
   "metadata": {},
   "outputs": [
    {
     "name": "stdout",
     "output_type": "stream",
     "text": [
      "Double check shape: (4320,) (720,)\n"
     ]
    }
   ],
   "source": [
    "# recreate the model grid - see previous notebook on creating the model grid for details\n",
    "delX = 1/24\n",
    "delY = 1/12\n",
    "xgOrigin = 0\n",
    "ygOrigin = 60\n",
    "n_rows = 720\n",
    "n_cols = 4320\n",
    "\n",
    "xc = np.arange(xgOrigin+delX/2, xgOrigin+n_cols*delX, delX)\n",
    "yc = np.arange(ygOrigin+delY/2, ygOrigin+n_rows*delY, delY)\n",
    "XC, YC = np.meshgrid(xc, yc)\n",
    "print('Double check shape:', np.shape(xc),np.shape(yc))"
   ]
  },
  {
   "cell_type": "code",
   "execution_count": null,
   "id": "efbbfd27-f9cf-417a-99be-4992047e1a02",
   "metadata": {},
   "outputs": [],
   "source": [
    "# interpolate the gebco data onto the model grid\n",
    "Model_bathy = griddata(np.column_stack([Gebco_Lon.ravel(),Gebco_Lat.ravel()]), Gebco_bathy.ravel(), (XC, YC), method='nearest')"
   ]
  },
  {
   "cell_type": "code",
   "execution_count": null,
   "id": "d991bbbe-affa-45ec-9ac2-dfc42f14024f",
   "metadata": {},
   "outputs": [],
   "source": [
    "# set points on land to 0\n",
    "Model_bathy[Model_bathy>0] = 0"
   ]
  },
  {
   "cell_type": "markdown",
   "id": "3da9f581-463d-4b7a-a8e6-b5a34a406df5",
   "metadata": {},
   "source": [
    "### Visualizing the Bathymetry Grid\n",
    "Finally, I create a plot of the bathymetry and compare with the source data to ensure everything turns out as expected:"
   ]
  },
  {
   "cell_type": "code",
   "execution_count": null,
   "id": "9b994193-8e88-4a2f-9107-6e90c4965e2c",
   "metadata": {},
   "outputs": [],
   "source": [
    "plt.figure(figsize=(10,5))\n",
    "\n",
    "plt.subplot(1,2,1)\n",
    "C = plt.pcolormesh(Gebco_Lon, Gebco_Lat, Gebco_bathy, vmin=-5000, vmax=0, cmap='Blues_r')\n",
    "plt.colorbar(C, orientation = 'horizontal')\n",
    "plt.title('GEBCO Bathymetry')\n",
    "\n",
    "plt.subplot(1,2,2)\n",
    "C = plt.pcolormesh(XC, YC, Model_bathy, vmin=-5000, vmax=0, cmap='Blues_r')\n",
    "plt.colorbar(C, orientation = 'horizontal')\n",
    "plt.title('Model Bathymetry')\n",
    "\n",
    "plt.show()"
   ]
  },
  {
   "cell_type": "markdown",
   "id": "eca81fa4-c48d-43f6-9f20-5a13ee8ce8cc",
   "metadata": {},
   "source": [
    "### Checking for isolated regions\n",
    "One potential problem that can be encountered in ocean models occurs with isolated regions"
   ]
  },
  {
   "cell_type": "code",
   "execution_count": null,
   "id": "8d91335c-cb19-46be-b87c-fa8275f25c50",
   "metadata": {},
   "outputs": [],
   "source": [
    "plt.figure(figsize=(6,6))\n",
    "\n",
    "C = plt.pcolormesh(Model_bathy, vmin=-1, vmax=0, cmap='Blues_r')\n",
    "plt.colorbar(C)\n",
    "plt.title('Model Bathymetry ')\n",
    "\n",
    "plt.show()"
   ]
  },
  {
   "cell_type": "markdown",
   "id": "8fffb901-2bb9-463c-ab2f-0d4995a3341e",
   "metadata": {},
   "source": [
    "As we can see, there are several isolated regions includes the San Francisco Bay and the Salton Sea. In addition, there is an area of extreme detail in the area of British Columbia, Canada. Before proceeding with the model, these regions need to be addressed.\n",
    "\n",
    "Fortunately, Mike has written a tool to fill in these unconnected regions. You can clone his [eccoseas](https://github.com/mhwood/eccoseas) repository to access a tool related to this process. If you clone it in the current directory, you can use import it here:"
   ]
  },
  {
   "cell_type": "code",
   "execution_count": null,
   "id": "9e4a4ba0-b5cf-4a88-9fd0-b9797f8c8cdb",
   "metadata": {},
   "outputs": [],
   "source": [
    "from eccoseas.downscale import bathymetry as edb"
   ]
  },
  {
   "cell_type": "markdown",
   "id": "df162372-d502-4753-86eb-d8f4f93a5d95",
   "metadata": {},
   "source": [
    "With the tools imported, we can now use the `fill_unconnected_model_regions` to fill in these regions."
   ]
  },
  {
   "cell_type": "code",
   "execution_count": null,
   "id": "b63fc9a6-f4b3-4be8-b460-dd4eed7816ea",
   "metadata": {},
   "outputs": [],
   "source": [
    "Model_bathy = edb.fill_unconnected_model_regions(Model_bathy, central_wet_row=100, central_wet_col=100)"
   ]
  },
  {
   "cell_type": "code",
   "execution_count": null,
   "id": "311e673a-ddd7-4296-8315-548ae8657b3f",
   "metadata": {},
   "outputs": [],
   "source": [
    "plt.figure(figsize=(6,6))\n",
    "\n",
    "C = plt.pcolormesh(Model_bathy, vmin=-1, vmax=0, cmap='Blues_r')\n",
    "plt.colorbar(C)\n",
    "plt.grid()\n",
    "plt.title('Model Bathymetry ')\n",
    "\n",
    "plt.show()"
   ]
  },
  {
   "cell_type": "markdown",
   "id": "43e2f2c4-cf86-41e3-9332-e97cc02edac6",
   "metadata": {},
   "source": [
    "### Checking for problem areas\n",
    "Another potential problem that can be encountered in ocean models occurs in regions where there is shallow bathymetry in enclosed bays. In these regions, there can be fast currents and strong dynamics. If this is your area of interest, then this is great! If not, it may cause problems in your domain. One option is to manually fill in these areas to avoid any potential issues. \n",
    "\n",
    "In this example, I will fill in the Juan de Fuca Strait between Canada and Washington State."
   ]
  },
  {
   "cell_type": "code",
   "execution_count": null,
   "id": "d664384e-ce5c-4d92-ae40-21ce98e72844",
   "metadata": {},
   "outputs": [],
   "source": [
    "# fill in some areas around BC\n",
    "# Model_bathy_filled = np.copy(Model_bathy)\n",
    "# Model_bathy_filled[342:352, 85:105] = 0\n",
    "# Model_bathy_filled[282:340, 130:160] = 0\n",
    "# Model_bathy_filled[325:350, 115:130] = 0"
   ]
  },
  {
   "cell_type": "markdown",
   "id": "27614539-176a-41e9-b5e9-2270b3191392",
   "metadata": {},
   "source": [
    "Then, plot the filled bathymetry to ensure it looks as expected"
   ]
  },
  {
   "cell_type": "code",
   "execution_count": null,
   "id": "469cd6ed-0e26-4dd9-9ab0-b0c3079a0c40",
   "metadata": {},
   "outputs": [],
   "source": [
    "plt.figure(figsize=(12,6))\n",
    "\n",
    "plt.subplot(1,2,1)\n",
    "C = plt.pcolormesh(Model_bathy_filled, vmin=-5000, vmax=0, cmap='Blues_r')\n",
    "plt.colorbar(C)\n",
    "plt.title('Model Bathymetry')\n",
    "\n",
    "plt.subplot(1,2,2)\n",
    "C = plt.pcolormesh(Model_bathy_filled, vmin=-1, vmax=0, cmap='Blues_r')\n",
    "plt.colorbar(C)\n",
    "plt.title('Model Bathymetry (Shallow)')\n",
    "\n",
    "plt.show()"
   ]
  },
  {
   "cell_type": "code",
   "execution_count": null,
   "id": "7731c46d-c44e-4fd9-831d-5fd3c7d01bab",
   "metadata": {},
   "outputs": [],
   "source": [
    "output_file = 'Artic_bathymetry.bin'\n",
    "Model_bathy_filled.ravel('C').astype('>f4').tofile(output_file)"
   ]
  },
  {
   "cell_type": "markdown",
   "id": "709422c2-a694-40aa-812b-c4f87625523c",
   "metadata": {},
   "source": [
    "This will be implemented into the model by editing the `PARM05` dataset of the `data` file as follows:\n",
    "```\n",
    " &PARM05\n",
    " bathyFile = 'Artic_bathymetry.bin,\n",
    " &\n",
    "```"
   ]
  },
  {
   "cell_type": "code",
   "execution_count": null,
   "id": "9476b309-9c43-4c7e-bd02-219d154a4ff5",
   "metadata": {},
   "outputs": [],
   "source": []
  },
  {
   "cell_type": "code",
   "execution_count": null,
   "id": "8b236507-222d-43a6-8d98-5b990f3c1a08",
   "metadata": {},
   "outputs": [],
   "source": []
  }
 ],
 "metadata": {
  "kernelspec": {
   "display_name": "cs185c",
   "language": "python",
   "name": "cs185c"
  },
  "language_info": {
   "codemirror_mode": {
    "name": "ipython",
    "version": 3
   },
   "file_extension": ".py",
   "mimetype": "text/x-python",
   "name": "python",
   "nbconvert_exporter": "python",
   "pygments_lexer": "ipython3",
   "version": "3.11.5"
  }
 },
 "nbformat": 4,
 "nbformat_minor": 5
}
